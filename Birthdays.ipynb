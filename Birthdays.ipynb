{
 "cells": [
  {
   "cell_type": "markdown",
   "id": "6ec40c82-f88d-430d-b4c7-e99888a15cef",
   "metadata": {},
   "source": [
    "### Hey Charlie, It's Your Birthday"
   ]
  },
  {
   "cell_type": "code",
   "execution_count": 1,
   "id": "07ee4aa5-1dee-4cc5-a308-fa5c49835762",
   "metadata": {},
   "outputs": [],
   "source": [
    "#### We're gonna party like it's your birthday!\n",
    "'''In this activity we're going to talk to each other and try to figure the day and month of our birhtdays.\n",
    "Let's then import some packages to have some fun with this activity (well, all of us except Molly).\n",
    "'''\n",
    "# Test\n",
    "import numpy as np\n",
    "import pandas as pd"
   ]
  },
  {
   "cell_type": "code",
   "execution_count": 5,
   "id": "8f205032-d246-4c19-a6b4-9f153e80f454",
   "metadata": {},
   "outputs": [
    {
     "data": {
      "text/html": [
       "<div>\n",
       "<style scoped>\n",
       "    .dataframe tbody tr th:only-of-type {\n",
       "        vertical-align: middle;\n",
       "    }\n",
       "\n",
       "    .dataframe tbody tr th {\n",
       "        vertical-align: top;\n",
       "    }\n",
       "\n",
       "    .dataframe thead th {\n",
       "        text-align: right;\n",
       "    }\n",
       "</style>\n",
       "<table border=\"1\" class=\"dataframe\">\n",
       "  <thead>\n",
       "    <tr style=\"text-align: right;\">\n",
       "      <th></th>\n",
       "      <th>Peeps</th>\n",
       "      <th>Bdays</th>\n",
       "    </tr>\n",
       "  </thead>\n",
       "  <tbody>\n",
       "    <tr>\n",
       "      <th>0</th>\n",
       "      <td>Nathan P.</td>\n",
       "      <td>1/1/2011</td>\n",
       "    </tr>\n",
       "    <tr>\n",
       "      <th>1</th>\n",
       "      <td>Arianna P.</td>\n",
       "      <td>1/1/2011</td>\n",
       "    </tr>\n",
       "    <tr>\n",
       "      <th>2</th>\n",
       "      <td>Molly P.</td>\n",
       "      <td>1/1/2011</td>\n",
       "    </tr>\n",
       "    <tr>\n",
       "      <th>3</th>\n",
       "      <td>David P.</td>\n",
       "      <td>1/1/2011</td>\n",
       "    </tr>\n",
       "    <tr>\n",
       "      <th>4</th>\n",
       "      <td>David O.</td>\n",
       "      <td>1/1/2011</td>\n",
       "    </tr>\n",
       "    <tr>\n",
       "      <th>5</th>\n",
       "      <td>Jevon  W.</td>\n",
       "      <td>1/1/2011</td>\n",
       "    </tr>\n",
       "    <tr>\n",
       "      <th>6</th>\n",
       "      <td>Holden M.</td>\n",
       "      <td>1/1/2011</td>\n",
       "    </tr>\n",
       "    <tr>\n",
       "      <th>7</th>\n",
       "      <td>Pedro A.</td>\n",
       "      <td>1/1/2011</td>\n",
       "    </tr>\n",
       "  </tbody>\n",
       "</table>\n",
       "</div>"
      ],
      "text/plain": [
       "        Peeps     Bdays\n",
       "0   Nathan P.  1/1/2011\n",
       "1  Arianna P.  1/1/2011\n",
       "2    Molly P.  1/1/2011\n",
       "3    David P.  1/1/2011\n",
       "4    David O.  1/1/2011\n",
       "5   Jevon  W.  1/1/2011\n",
       "6   Holden M.  1/1/2011\n",
       "7    Pedro A.  1/1/2011"
      ]
     },
     "execution_count": 5,
     "metadata": {},
     "output_type": "execute_result"
    }
   ],
   "source": [
    "### This pandas data frame will contain our names, but with wrong dates for our birthdays.\n",
    "\n",
    "bdays = pd.DataFrame({'Peeps': ['Nathan P.', 'Arianna P.', 'Molly P.', 'David P.', 'David O.', 'Jevon  W.', 'Holden M.', 'Pedro A.'],\n",
    "                     'Bdays': ['1/1/2011','1/1/2011','1/1/2011','1/1/2011','1/1/2011','1/1/2011','1/1/2011','1/1/2011']})\n",
    "\n",
    "bdays"
   ]
  },
  {
   "cell_type": "code",
   "execution_count": 17,
   "id": "61c714b1-8173-4607-a7a4-4f045f6f7d89",
   "metadata": {},
   "outputs": [
    {
     "data": {
      "text/plain": [
       "\"So your job right now is talk to everyone and figure out when their birthdays actually are. Or just talk to Molly or ask her to share her screen.\\n\\nThis is an example on how you modify a birthday entry.\\n\\nbdays.loc[bdays['Peeps']=='Pedro A.',['Bdays']] = '12/19/1900'\\n\\n\""
      ]
     },
     "execution_count": 17,
     "metadata": {},
     "output_type": "execute_result"
    }
   ],
   "source": [
    "'''So your job right now is talk to everyone and figure out when their birthdays actually are. Or just talk to Molly or ask her to share her screen.\n",
    "\n",
    "This is an example on how you modify a birthday entry.\n",
    "\n",
    "bdays.loc[bdays['Peeps']=='Pedro A.',['Bdays']] = '12/19/1900'\n",
    "\n",
    "'''\n",
    "## Following the example above, replace all the 8 entries with the correct birthdays.\n",
    "\n",
    "\n"
   ]
  },
  {
   "cell_type": "code",
   "execution_count": null,
   "id": "142e1392-88cf-40b8-ad06-a6cf7be26ee2",
   "metadata": {},
   "outputs": [],
   "source": [
    "### Now, let's go to GitHub. Remember the 3 steps of Git: Add, Commit"
   ]
  }
 ],
 "metadata": {
  "kernelspec": {
   "display_name": "default:Python",
   "language": "python",
   "name": "conda-env-default-py"
  },
  "language_info": {
   "codemirror_mode": {
    "name": "ipython",
    "version": 3
   },
   "file_extension": ".py",
   "mimetype": "text/x-python",
   "name": "python",
   "nbconvert_exporter": "python",
   "pygments_lexer": "ipython3",
   "version": "3.9.7"
  }
 },
 "nbformat": 4,
 "nbformat_minor": 5
}
